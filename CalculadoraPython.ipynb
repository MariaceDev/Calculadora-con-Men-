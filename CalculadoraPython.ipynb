{
  "nbformat": 4,
  "nbformat_minor": 0,
  "metadata": {
    "colab": {
      "provenance": [],
      "authorship_tag": "ABX9TyMFbTatTM42rpX2MHE/qVih",
      "include_colab_link": true
    },
    "kernelspec": {
      "name": "python3",
      "display_name": "Python 3"
    },
    "language_info": {
      "name": "python"
    }
  },
  "cells": [
    {
      "cell_type": "markdown",
      "metadata": {
        "id": "view-in-github",
        "colab_type": "text"
      },
      "source": [
        "<a href=\"https://colab.research.google.com/github/MariaceDev/Calculadora-con-Men-/blob/main/CalculadoraPython.ipynb\" target=\"_parent\"><img src=\"https://colab.research.google.com/assets/colab-badge.svg\" alt=\"Open In Colab\"/></a>"
      ]
    },
    {
      "cell_type": "markdown",
      "source": [
        "CALCULADORA CON MENÚ"
      ],
      "metadata": {
        "id": "c7mXQMqTjA47"
      }
    },
    {
      "cell_type": "code",
      "source": [
        "def menu():\n",
        "  print(\"1.Sumar\")\n",
        "  print(\"2.Restar\")\n",
        "  print(\"3.Multiplicar\")\n",
        "  print(\"4.Dividir\")\n",
        "  print(\"0.Salir\")\n",
        "  opcion = int(input(\"Por favor, seleccione una opción... \"))\n",
        "  return opcion\n",
        "\n",
        "def solicitaDatos():\n",
        "  num1 = int(input(\"Introduce el primer número \"))\n",
        "  num2 = int(input(\"Introduce el segundo número \"))\n",
        "  return num1, num2\n",
        "\n",
        "def operacion(operador, num1, num2):\n",
        "  if operador == \"Sumar\":\n",
        "    resultado = num1 + num2\n",
        "  elif operacion == \"Restar\":\n",
        "    resultado = num1 - num2\n",
        "  elif operacion == \"Multiplicar\":\n",
        "    resultado = num1 * num2\n",
        "  elif operacion == \"Dividir\":\n",
        "    resultado = num1 / num2\n",
        "  return resultado\n",
        "\n",
        "while True:\n",
        "  opcion = menu()\n",
        "  if opcion == 1:\n",
        "    num1, num2 = solicitaDatos()\n",
        "    print(f\"El resultado de {num1} + {num2} es = \")\n",
        "    print(operacion (\"Sumar\", num1, num2))\n",
        "  elif opcion == 2:\n",
        "    num1, num2 = solicitaDatos()\n",
        "    print(f\"El resultado de {num1} - {num2} es = \")\n",
        "    print(operacion (\"Restar\", num1, num2))\n",
        "  elif opcion == 3:\n",
        "    num1, num2 = solicitaDatos()\n",
        "    print(f\"El resultado de {num1} * {num2} es = \")\n",
        "    print(operacion (\"Multiplicar\", num1, num2))\n",
        "  elif opcion == 4:\n",
        "    num1, num2 = solicitaDatos()\n",
        "    print(f\"El resultado de {num1} / {num2} es = \")\n",
        "    print(operacion (\"Dividir\", num1, num2))\n",
        "  elif opcion == 0:\n",
        "    break\n",
        "  else:\n",
        "    print(\"Por favor, introduce una opción válida.\")\n",
        "  \n",
        "  print(\"\\n\")\n",
        "\n",
        "print(\"Salimos.\")\n",
        "  \n",
        "\n",
        "  \n",
        "\n",
        "\n",
        "\n"
      ],
      "metadata": {
        "colab": {
          "base_uri": "https://localhost:8080/"
        },
        "id": "w9fim8GKjIrn",
        "outputId": "3f3b8b8d-9adf-4b64-fb6c-ebf8d819e523"
      },
      "execution_count": null,
      "outputs": [
        {
          "output_type": "stream",
          "name": "stdout",
          "text": [
            "1.Sumar\n",
            "2.Restar\n",
            "3.Multiplicar\n",
            "4.Dividir\n",
            "0.Salir\n",
            "Por favor, seleccione una opción... 1\n",
            "Introduce el primer número 20\n",
            "Introduce el segundo número 30\n",
            "El resultado de 20 + 30 es = \n",
            "50\n",
            "\n",
            "\n",
            "1.Sumar\n",
            "2.Restar\n",
            "3.Multiplicar\n",
            "4.Dividir\n",
            "0.Salir\n",
            "Por favor, seleccione una opción... 0\n",
            "Salimos.\n"
          ]
        }
      ]
    },
    {
      "cell_type": "code",
      "source": [
        "def calculadora (num1, num2, operacion = \"sumar\"):\n",
        "  def sumar(num1, num2):\n",
        "    print(f\"El resultado de la suma es {num1+num2}\") \n",
        "\n",
        "  def restar(num1, num2):\n",
        "    print(f\"El resultado de la resta es {num1-num2}\") \n",
        "\n",
        "  def multiplicar(num1, num2):\n",
        "    print(f\"El resultado de la multiplicación es {num1*num2}\") \n",
        "\n",
        "  def dividir(num1, num2):\n",
        "    print(f\"El resultado de la división es {num1/num2}\") \n",
        "\n",
        "  if operacion == \"sumar\":\n",
        "    return sumar(num1, num2)\n",
        "\n",
        "  elif operacion == \"restar\":\n",
        "    return restar(num1, num2)\n",
        "\n",
        "  elif operacion == \"multiplicar\":\n",
        "    return multiplicar(num1, num2)\n",
        "\n",
        "  elif dividir == \"restar\":\n",
        "    return dividir(num1, num2)\n",
        "\n",
        "\n",
        "calculadora(5, 10, \"sumar\")\n",
        "calculadora(5,10, \"multiplicar\")\n",
        "\n",
        "\n",
        "\n",
        "\n"
      ],
      "metadata": {
        "colab": {
          "base_uri": "https://localhost:8080/"
        },
        "id": "fs4pgic1rjWN",
        "outputId": "007e1330-6912-4f07-c7c9-3ca1a6d53242"
      },
      "execution_count": null,
      "outputs": [
        {
          "output_type": "stream",
          "name": "stdout",
          "text": [
            "El resultado de la suma es 15\n",
            "El resultado de la multiplicación es 50\n"
          ]
        }
      ]
    }
  ]
}